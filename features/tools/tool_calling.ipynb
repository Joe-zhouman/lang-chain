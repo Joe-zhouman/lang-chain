{
 "cells": [
  {
   "cell_type": "code",
   "execution_count": 1,
   "metadata": {},
   "outputs": [],
   "source": [
    "import os\n",
    "\n",
    "from langchain.chat_models import init_chat_model\n",
    "llm = init_chat_model(\"gpt-4o-mini\")"
   ]
  },
  {
   "cell_type": "code",
   "execution_count": 2,
   "metadata": {},
   "outputs": [],
   "source": [
    "from langchain_core.tools import tool\n",
    "\n",
    "\n",
    "@tool\n",
    "def add(a: int, b: int) -> int:\n",
    "    \"\"\"Adds a and b.\"\"\"\n",
    "    return a + b\n",
    "\n",
    "\n",
    "@tool\n",
    "def multiply(a: int, b: int) -> int:\n",
    "    \"\"\"Multiplies a and b.\"\"\"\n",
    "    return a * b\n",
    "\n",
    "\n",
    "tools = [add, multiply]\n",
    "\n",
    "llm_with_tools = llm.bind_tools(tools)"
   ]
  },
  {
   "cell_type": "code",
   "execution_count": 3,
   "metadata": {},
   "outputs": [
    {
     "name": "stdout",
     "output_type": "stream",
     "text": [
      "[{'name': 'multiply', 'args': {'a': 3, 'b': 12}, 'id': 'call_Q0PaLZI7UlP5QVy7wvRSaWCR', 'type': 'tool_call'}, {'name': 'add', 'args': {'a': 11, 'b': 49}, 'id': 'call_LbMb6fbk29qfpVEFLmH2FBY9', 'type': 'tool_call'}]\n"
     ]
    }
   ],
   "source": [
    "from langchain_core.messages import HumanMessage\n",
    "\n",
    "query = \"What is 3 * 12? Also, what is 11 + 49?\"\n",
    "\n",
    "messages = [HumanMessage(query)]\n",
    "\n",
    "ai_msg = llm_with_tools.invoke(messages)\n",
    "\n",
    "print(ai_msg.tool_calls)\n",
    "\n",
    "messages.append(ai_msg)"
   ]
  },
  {
   "cell_type": "code",
   "execution_count": 4,
   "metadata": {},
   "outputs": [
    {
     "data": {
      "text/plain": [
       "[HumanMessage(content='What is 3 * 12? Also, what is 11 + 49?', additional_kwargs={}, response_metadata={}),\n",
       " AIMessage(content='', additional_kwargs={'tool_calls': [{'id': 'call_Q0PaLZI7UlP5QVy7wvRSaWCR', 'function': {'arguments': '{\"a\": 3, \"b\": 12}', 'name': 'multiply'}, 'type': 'function'}, {'id': 'call_LbMb6fbk29qfpVEFLmH2FBY9', 'function': {'arguments': '{\"a\": 11, \"b\": 49}', 'name': 'add'}, 'type': 'function'}], 'refusal': None}, response_metadata={'token_usage': {'completion_tokens': 50, 'prompt_tokens': 87, 'total_tokens': 137, 'completion_tokens_details': {'accepted_prediction_tokens': 0, 'audio_tokens': 0, 'reasoning_tokens': 0, 'rejected_prediction_tokens': 0}, 'prompt_tokens_details': {'audio_tokens': 0, 'cached_tokens': 0}}, 'model_name': 'gpt-4o-mini-2024-07-18', 'system_fingerprint': 'fp_34a54ae93c', 'id': 'chatcmpl-BjHyMdXroPYeMYNdCyoBskMvOfa8H', 'service_tier': 'default', 'finish_reason': 'tool_calls', 'logprobs': None}, id='run--a18b991d-c2c5-4e66-9004-1a6969f791f8-0', tool_calls=[{'name': 'multiply', 'args': {'a': 3, 'b': 12}, 'id': 'call_Q0PaLZI7UlP5QVy7wvRSaWCR', 'type': 'tool_call'}, {'name': 'add', 'args': {'a': 11, 'b': 49}, 'id': 'call_LbMb6fbk29qfpVEFLmH2FBY9', 'type': 'tool_call'}], usage_metadata={'input_tokens': 87, 'output_tokens': 50, 'total_tokens': 137, 'input_token_details': {'audio': 0, 'cache_read': 0}, 'output_token_details': {'audio': 0, 'reasoning': 0}}),\n",
       " ToolMessage(content='36', name='multiply', tool_call_id='call_Q0PaLZI7UlP5QVy7wvRSaWCR'),\n",
       " ToolMessage(content='60', name='add', tool_call_id='call_LbMb6fbk29qfpVEFLmH2FBY9')]"
      ]
     },
     "execution_count": 4,
     "metadata": {},
     "output_type": "execute_result"
    }
   ],
   "source": [
    "for tool_call in ai_msg.tool_calls:\n",
    "    selected_tool = {\"add\": add, \"multiply\": multiply}[tool_call[\"name\"].lower()]\n",
    "    tool_msg = selected_tool.invoke(tool_call)\n",
    "    messages.append(tool_msg)\n",
    "\n",
    "messages"
   ]
  },
  {
   "cell_type": "code",
   "execution_count": 5,
   "metadata": {},
   "outputs": [
    {
     "data": {
      "text/plain": [
       "AIMessage(content='The result of \\\\(3 \\\\times 12\\\\) is 36, and \\\\(11 + 49\\\\) equals 60.', additional_kwargs={'refusal': None}, response_metadata={'token_usage': {'completion_tokens': 28, 'prompt_tokens': 153, 'total_tokens': 181, 'completion_tokens_details': {'accepted_prediction_tokens': 0, 'audio_tokens': 0, 'reasoning_tokens': 0, 'rejected_prediction_tokens': 0}, 'prompt_tokens_details': {'audio_tokens': 0, 'cached_tokens': 0}}, 'model_name': 'gpt-4o-mini-2024-07-18', 'system_fingerprint': 'fp_34a54ae93c', 'id': 'chatcmpl-BjI1h1iIWbKwUwwsTPFyAKtyBq0fe', 'service_tier': 'default', 'finish_reason': 'stop', 'logprobs': None}, id='run--5fdc3abb-0d1d-4deb-ba48-9bed58abf626-0', usage_metadata={'input_tokens': 153, 'output_tokens': 28, 'total_tokens': 181, 'input_token_details': {'audio': 0, 'cache_read': 0}, 'output_token_details': {'audio': 0, 'reasoning': 0}})"
      ]
     },
     "execution_count": 5,
     "metadata": {},
     "output_type": "execute_result"
    }
   ],
   "source": [
    "llm_with_tools.invoke(messages)"
   ]
  },
  {
   "cell_type": "code",
   "execution_count": null,
   "metadata": {},
   "outputs": [],
   "source": [
    "AIMessage(\n",
    "    content=\"The result of \\\\(3 \\\\times 12\\\\) is 36, and \\\\(11 + 49\\\\) equals 60.\",\n",
    "    additional_kwargs={\"refusal\": None},\n",
    "    response_metadata={\n",
    "        \"token_usage\": {\n",
    "            \"completion_tokens\": 28,\n",
    "            \"prompt_tokens\": 153,\n",
    "            \"total_tokens\": 181,\n",
    "            \"completion_tokens_details\": {\n",
    "                \"accepted_prediction_tokens\": 0,\n",
    "                \"audio_tokens\": 0,\n",
    "                \"reasoning_tokens\": 0,\n",
    "                \"rejected_prediction_tokens\": 0,\n",
    "            },\n",
    "            \"prompt_tokens_details\": {\"audio_tokens\": 0, \"cached_tokens\": 0},\n",
    "        },\n",
    "        \"model_name\": \"gpt-4o-mini-2024-07-18\",\n",
    "        \"system_fingerprint\": \"fp_34a54ae93c\",\n",
    "        \"id\": \"chatcmpl-BjI1h1iIWbKwUwwsTPFyAKtyBq0fe\",\n",
    "        \"service_tier\": \"default\",\n",
    "        \"finish_reason\": \"stop\",\n",
    "        \"logprobs\": None,\n",
    "    },\n",
    "    id=\"run--5fdc3abb-0d1d-4deb-ba48-9bed58abf626-0\",\n",
    "    usage_metadata={\n",
    "        \"input_tokens\": 153,\n",
    "        \"output_tokens\": 28,\n",
    "        \"total_tokens\": 181,\n",
    "        \"input_token_details\": {\"audio\": 0, \"cache_read\": 0},\n",
    "        \"output_token_details\": {\"audio\": 0, \"reasoning\": 0},\n",
    "    },\n",
    ")"
   ]
  }
 ],
 "metadata": {
  "kernelspec": {
   "display_name": ".venv",
   "language": "python",
   "name": "python3"
  },
  "language_info": {
   "codemirror_mode": {
    "name": "ipython",
    "version": 3
   },
   "file_extension": ".py",
   "mimetype": "text/x-python",
   "name": "python",
   "nbconvert_exporter": "python",
   "pygments_lexer": "ipython3",
   "version": "3.12.10"
  }
 },
 "nbformat": 4,
 "nbformat_minor": 2
}
