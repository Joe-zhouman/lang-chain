{
 "cells": [
  {
   "cell_type": "code",
   "execution_count": 1,
   "metadata": {},
   "outputs": [
    {
     "data": {
      "text/plain": [
       "AIMessage(content=\"Here’s a purr-fect cat joke for you:  \\n\\n**Why did the cat sit on the computer?**  \\nBecause it wanted to keep an *eye on the mouse*!  \\n\\n(🐱🖱️😂) Let me know if you'd like another one!\", additional_kwargs={'refusal': None}, response_metadata={'token_usage': {'completion_tokens': 60, 'prompt_tokens': 11, 'total_tokens': 71, 'completion_tokens_details': None, 'prompt_tokens_details': None}, 'model_name': 'deepseek/deepseek-chat-v3-0324:free', 'system_fingerprint': None, 'id': 'gen-1749966810-K5q2ySErmWsv7mEiG243', 'service_tier': None, 'finish_reason': 'stop', 'logprobs': None}, id='run--5291077f-592d-491c-8090-6b11b1c03ebf-0', usage_metadata={'input_tokens': 11, 'output_tokens': 60, 'total_tokens': 71, 'input_token_details': {}, 'output_token_details': {}})"
      ]
     },
     "execution_count": 1,
     "metadata": {},
     "output_type": "execute_result"
    }
   ],
   "source": [
    "import os\n",
    "from IPython.display import JSON\n",
    "\n",
    "from langchain.chat_models import init_chat_model\n",
    "\n",
    "ds_llm = init_chat_model(\n",
    "    \"deepseek/deepseek-chat-v3-0324:free\", \n",
    "    model_provider=\"openai\",\n",
    "    base_url=os.getenv(\"OPENROUTER_BASE_URL\"), \n",
    "    openai_api_key=os.getenv(\"OPENROUTER_API_KEY\"),\n",
    ")\n",
    "ds_llm.invoke(\"Tell me a joke about cats\")"
   ]
  },
  {
   "cell_type": "code",
   "execution_count": null,
   "metadata": {},
   "outputs": [],
   "source": [
    "from typing import Optional, List, Dict, Any\n",
    "from pydantic import BaseModel, Field\n",
    "import pprint\n",
    "#  Pydantic \n",
    "class Joke(BaseModel):\n",
    "    \"\"\"一个笑话\"\"\"\n",
    "    setup: str = Field(description=\"笑话的铺垫部分\")\n",
    "    punchline: str = Field(description=\"笑话的包袱部分\")\n",
    "    rating: Optional[int] = Field(\n",
    "        default=None,\n",
    "        description=\"笑话的评分，范围是1到10\"\n",
    "    )\n",
    "\n",
    "structured_llm = ds_llm.with_structured_output(Joke)\n",
    "\n",
    "output = structured_llm.invoke(\"讲个苏联笑话\")\n",
    "\n"
   ]
  },
  {
   "cell_type": "code",
   "execution_count": 4,
   "metadata": {},
   "outputs": [
    {
     "name": "stdout",
     "output_type": "stream",
     "text": [
      "Joke(setup='商店排长队买肉，有人抱怨道：“这帮政府官员真是无能！”', punchline='“同志，您对政府还有什么意见吗？”\\n“没有，我对政府非常满意——我刚才只是在念自己的购物清单。”', rating=4)\n"
     ]
    }
   ],
   "source": [
    "pprint.pprint(output)"
   ]
  },
  {
   "cell_type": "code",
   "execution_count": 6,
   "metadata": {},
   "outputs": [],
   "source": [
    "from typing_extensions import Annotated, TypedDict\n",
    "\n",
    "# TypedDict\n",
    "class Joke2(TypedDict):\n",
    "    \"\"\"一个笑话\"\"\" \n",
    "    setup: Annotated[str,...,\"笑话的铺垫部分\"]\n",
    "    punchline: Annotated[str,...,\"笑话的包袱部分\"]\n",
    "    rating: Annotated[Optional[int],...,\"笑话的评分，范围是1到10\"]\n",
    "\n",
    "structured_llm = ds_llm.with_structured_output(Joke2)\n",
    "output = structured_llm.invoke(\"讲个苏联笑话\")\n",
    "\n"
   ]
  },
  {
   "cell_type": "code",
   "execution_count": 7,
   "metadata": {},
   "outputs": [
    {
     "name": "stdout",
     "output_type": "stream",
     "text": [
      "{'punchline': '同志，您听说过关于苏联汽车的笑话吗？现在你可以申请排队领取了！',\n",
      " 'rating': 9,\n",
      " 'setup': '为什么苏联工厂要生产左轮手枪？'}\n"
     ]
    }
   ],
   "source": [
    "pprint.pprint(output)"
   ]
  },
  {
   "cell_type": "code",
   "execution_count": 9,
   "metadata": {},
   "outputs": [
    {
     "name": "stdout",
     "output_type": "stream",
     "text": [
      "{'punchline': \"'在共产主义社会，还会有警察吗？'学生们异口同声：'不会！因为到那时，所有公民都已学会自己逮捕自己。'\",\n",
      " 'setup': '在苏联同志的公民课上，老师提问：'}\n"
     ]
    }
   ],
   "source": [
    "json_schema = {\n",
    "    \"title\":\"Joke\",\n",
    "    \"description\":\"一个笑话\",\n",
    "    \"type\":\"object\",\n",
    "    \"properties\":{\n",
    "        \"setup\":{\n",
    "            \"type\":\"string\",\n",
    "            \"description\":\"笑话的铺垫部分\"\n",
    "        },\n",
    "        \"punchline\":{\n",
    "            \"type\":\"string\",\n",
    "            \"description\":\"笑话的包袱部分\"\n",
    "        },\n",
    "        \"rating\":{\n",
    "            \"type\":\"integer\",\n",
    "            \"description\":\"笑话的评分，范围是1到10\"\n",
    "        },\n",
    "    },\n",
    "    \"required\":[\"setup\",\"punchline\"]\n",
    "}\n",
    "structured_llm = ds_llm.with_structured_output(json_schema)\n",
    "output = structured_llm.invoke(\"讲个苏联笑话\")\n",
    "pprint.pprint(output)"
   ]
  },
  {
   "cell_type": "code",
   "execution_count": 15,
   "metadata": {},
   "outputs": [
    {
     "name": "stdout",
     "output_type": "stream",
     "text": [
      "FinalResponse(final_output=CoversationalResponse(response='好的，我来讲一个经典的苏联笑话：\\n\\n一位克格勃军官在红场拦住一个拎着沉重行李箱的市民：\\n- 箱子里是什么？\\n- 200克香肠、面包和黄油。\\n军官打开箱子检查，发现全是伏特加：\\n- 你竟敢说谎？这是伏特加！\\n市民冷静回答：\\n- 您看，这就是我们社会主义的成就——您问我有什么，我说的是理想，您看到的却是现实！'))\n"
     ]
    }
   ],
   "source": [
    "from typing import Union \n",
    "\n",
    "class CoversationalResponse(BaseModel):\n",
    "    \"\"\"以对话的形式回应\"\"\"\n",
    "    response: str = Field(description=\"对用户问题的回应\")\n",
    "\n",
    "class FinalResponse(BaseModel):\n",
    "    final_output: Union[Joke, CoversationalResponse]\n",
    "\n",
    "structured_llm = ds_llm.with_structured_output(FinalResponse)\n",
    "output = structured_llm.invoke(\"讲个苏联笑话\")\n",
    "pprint.pprint(output)"
   ]
  },
  {
   "cell_type": "code",
   "execution_count": 17,
   "metadata": {},
   "outputs": [
    {
     "name": "stdout",
     "output_type": "stream",
     "text": [
      "final_output=CoversationalResponse(response='好的，这里有一个经典的苏联笑话：\\n\\n**笑话内容**:\\n勃列日涅夫带着母亲参观他的豪宅，展示奢华的生活。母亲看完后忧心忡忡地问：\"孩子，这一切都很好……可是如果共产党回来了怎么办？\"\\n\\n**解读**:\\n1. 讽刺勃列日涅夫时代的腐败：领导人所享受的特权与共产主义理想背道而驰；\\n2. 隐含「共产党早已变质」的黑色幽默——连领导人的母亲都觉得现在的政权已不再是真正的共产党；\\n3. 多层反讽：本该代表无产阶级的执政者，反而成了被人民警惕的「反动派」。\\n\\n***注意事项***\\n• 这类笑话诞生于特定历史背景，部分内容可能较为尖锐\\n• 当代俄罗斯对苏联时期的评价复杂，笑话的解读也存在不同视角')\n"
     ]
    }
   ],
   "source": [
    "for chunk in structured_llm.stream(\"讲个苏联笑话\"):\n",
    "    print(chunk)"
   ]
  },
  {
   "cell_type": "code",
   "execution_count": 22,
   "metadata": {},
   "outputs": [
    {
     "data": {
      "text/plain": [
       "FinalResponse(final_output=Joke(setup='为什么苏联时期的天气预报总是准确的？', punchline=\"因为他们只报一种天气：'明天全国普遍寒冷，部分地区有希望'。\", rating=9))"
      ]
     },
     "execution_count": 22,
     "metadata": {},
     "output_type": "execute_result"
    }
   ],
   "source": [
    "from langchain_core.prompts import ChatPromptTemplate \n",
    "\n",
    "system = \"\"\"你是一位非常搞笑的喜剧演员。你的专长是苏联笑话。\n",
    "请给出一个笑话，包括setup部分和最后的punchline部分。punchline部分是对setup部分的回应.\n",
    "\n",
    "这里有一些例子:\n",
    "\n",
    "example_user: 讲一个苏联笑话\n",
    "example_assistant: {{\n",
    "    \"punchline\": \"因为它们是世界上最快的。你可以在一小时内走完一年的路程！\",\n",
    "    \"rating\": 8,\n",
    "    \"setup\": \"为什么苏联的汽车很糟糕？\"\n",
    "  }},\n",
    "\n",
    "example_user: 再讲一个苏联笑话\n",
    "example_assistant: {{\n",
    "    \"punchline\": \"在资本主义社会，人剥削人；在社会主义社会，则完全相反。\",\n",
    "    \"rating\": 10,\n",
    "    \"setup\": \"资本主义和社会主义有什么区别？\"\n",
    "  }},\n",
    "\n",
    "example_user: 还不够\n",
    "example_assistant: {{\n",
    "    \"punchline\": \"因为他们知道，只有在排队的时候才能遇到所有认识的人。\",\n",
    "    \"rating\": 7,\n",
    "    \"setup\": \"为什么苏联人喜欢排队？\"\n",
    "}}\n",
    "\"\"\"\n",
    "prompt = ChatPromptTemplate.from_messages([(\"system\",system),(\"human\", \"{input}\")])\n",
    "\n",
    "few_shot_structured_llm = prompt | structured_llm\n",
    "few_shot_structured_llm.invoke(\"今天有什么好笑的?\")"
   ]
  },
  {
   "cell_type": "code",
   "execution_count": 24,
   "metadata": {},
   "outputs": [
    {
     "data": {
      "text/plain": [
       "FinalResponse(final_output=Joke(setup=\"一位苏联公民走进商店想买汽车，销售员告诉他需要排队等10年。这位公民问道：'是上午来取车还是下午来取车？'\", punchline=\"销售员惊讶地回答：'同志，这可是10年后的事！' 公民认真地解释：'因为那天上午水管工要来我家...'\", rating=4))"
      ]
     },
     "execution_count": 24,
     "metadata": {},
     "output_type": "execute_result"
    }
   ],
   "source": [
    "from langchain_core.messages import AIMessage, HumanMessage, ToolMessage\n",
    "\n",
    "examples = [\n",
    "    HumanMessage(\"讲一个苏联笑话\", name=\"example_user\"),\n",
    "    AIMessage(\n",
    "        \"\",\n",
    "        name=\"example_assistant\",\n",
    "        tool_calls=[{\n",
    "            \"name\": \"joke\",\n",
    "            \"args\":{\n",
    "                \"setup\":\"为什么苏联的汽车很糟糕？\",\n",
    "                \"punchline\": \"因为它们是世界上最快的。你可以在一小时内走完一年的路程！\",\n",
    "                \"rating\": 8,\n",
    "            },\n",
    "            \"id\": \"1\",\n",
    "        }]\n",
    "    ),\n",
    "    ToolMessage(\"\", tool_call_id=\"1\"),\n",
    "    HumanMessage(\"再讲一个苏联笑话\", name=\"example_user\"),\n",
    "    AIMessage(\n",
    "        \"\",\n",
    "        name=\"example_assistant\",\n",
    "        tool_calls=[{\n",
    "            \"name\": \"joke\",\n",
    "            \"args\":{\n",
    "                \"punchline\": \"在资本主义社会，人剥削人；在社会主义社会，则完全相反。\",\n",
    "                \"rating\": 10,\n",
    "                \"setup\": \"资本主义和社会主义有什么区别？\"\n",
    "            },\n",
    "            \"id\": \"2\",\n",
    "        }]\n",
    "    ),\n",
    "    ToolMessage(\"\", tool_call_id=\"2\"),\n",
    "    HumanMessage(\"再讲一个苏联笑话\", name=\"example_user\"),\n",
    "    AIMessage(\n",
    "        \"\",\n",
    "        name=\"example_assistant\",\n",
    "        tool_calls=[{\n",
    "            \"name\": \"joke\",\n",
    "            \"args\":{\n",
    "                \"punchline\": \"因为他们知道，只有在排队的时候才能遇到所有认识的人。\",\n",
    "                \"rating\": 7,\n",
    "                \"setup\": \"为什么苏联人喜欢排队？\"\n",
    "            },\n",
    "            \"id\": \"3\",\n",
    "        }]\n",
    "    ),\n",
    "    ToolMessage(\"\", tool_call_id=\"3\"),\n",
    "]\n",
    "\n",
    "system = \"\"\"你是一位非常搞笑的喜剧演员。你的专长是苏联笑话。\n",
    "请给出一个笑话，包括setup部分和最后的punchline部分。punchline部分是对setup部分的回应.\"\"\"\n",
    "\n",
    "prompt = ChatPromptTemplate.from_messages(\n",
    "    [(\"system\",system),(\"placeholder\",\"{examples}\"),(\"human\",\"{input}\")]\n",
    ")\n",
    "\n",
    "few_shot_tool_calling = prompt | structured_llm \n",
    "\n",
    "few_shot_tool_calling.invoke(\"今天有什么好笑的?\")"
   ]
  },
  {
   "cell_type": "code",
   "execution_count": 36,
   "metadata": {},
   "outputs": [
    {
     "data": {
      "text/plain": [
       "{'setup': \"一位同志在红场散步时抱怨道：'这个政府真差劲！'\",\n",
       " 'punchline': '结果他被逮捕了——不是因为批评政府，而是因为泄露国家机密。'}"
      ]
     },
     "execution_count": 36,
     "metadata": {},
     "output_type": "execute_result"
    }
   ],
   "source": [
    "structured_llm = ds_llm.with_structured_output(None, method=\"json_mode\")\n",
    "\n",
    "structured_llm.invoke(\"讲一个苏联笑话. 使用JSON格式返回结果, 确保结果包含'setup'和'punchline'字段\")"
   ]
  },
  {
   "cell_type": "code",
   "execution_count": 26,
   "metadata": {},
   "outputs": [
    {
     "data": {
      "text/plain": [
       "{'raw': AIMessage(content='{ \"punchline\": \"Why don\\'t cats play poker in the jungle?\", \"rating\": 10, \"setup\": \"Too many cheetahs!\" }', additional_kwargs={'parsed': Joke(setup='Too many cheetahs!', punchline=\"Why don't cats play poker in the jungle?\", rating=10), 'refusal': None}, response_metadata={'token_usage': {'completion_tokens': 35, 'prompt_tokens': 9, 'total_tokens': 44, 'completion_tokens_details': None, 'prompt_tokens_details': None}, 'model_name': 'deepseek/deepseek-chat-v3-0324:free', 'system_fingerprint': None, 'id': 'gen-1749978225-AiiZJvSYAz7QzgqagIcT', 'service_tier': None, 'finish_reason': 'stop', 'logprobs': None}, id='run--f480cefb-2211-4a64-863d-87fecd391f73-0', usage_metadata={'input_tokens': 9, 'output_tokens': 35, 'total_tokens': 44, 'input_token_details': {}, 'output_token_details': {}}),\n",
       " 'parsed': Joke(setup='Too many cheetahs!', punchline=\"Why don't cats play poker in the jungle?\", rating=10),\n",
       " 'parsing_error': None}"
      ]
     },
     "execution_count": 26,
     "metadata": {},
     "output_type": "execute_result"
    }
   ],
   "source": [
    "structured_llm = ds_llm.with_structured_output(Joke, include_raw=True)\n",
    "\n",
    "structured_llm.invoke(\"Tell me a joke about cats\")"
   ]
  },
  {
   "cell_type": "code",
   "execution_count": 29,
   "metadata": {},
   "outputs": [
    {
     "name": "stdout",
     "output_type": "stream",
     "text": [
      "System: 回答用户的查询。将输出用json标签包裹 \n",
      " The output should be formatted as a JSON instance that conforms to the JSON schema below.\n",
      "\n",
      "As an example, for the schema {\"properties\": {\"foo\": {\"title\": \"Foo\", \"description\": \"a list of strings\", \"type\": \"array\", \"items\": {\"type\": \"string\"}}}, \"required\": [\"foo\"]}\n",
      "the object {\"foo\": [\"bar\", \"baz\"]} is a well-formatted instance of the schema. The object {\"properties\": {\"foo\": [\"bar\", \"baz\"]}} is not well-formatted.\n",
      "\n",
      "Here is the output schema:\n",
      "```\n",
      "{\"$defs\": {\"Person\": {\"description\": \"个人信息\", \"properties\": {\"name\": {\"description\": \"人的姓名\", \"title\": \"Name\", \"type\": \"string\"}, \"height_in_meters\": {\"description\": \"人的身高（米）\", \"title\": \"Height In Meters\", \"type\": \"number\"}}, \"required\": [\"name\", \"height_in_meters\"], \"title\": \"Person\", \"type\": \"object\"}}, \"description\": \"文本中所有人的信息\", \"properties\": {\"people\": {\"description\": \"文本中所有人的信息\", \"items\": {\"$ref\": \"#/$defs/Person\"}, \"title\": \"People\", \"type\": \"array\"}}, \"required\": [\"people\"]}\n",
      "```\n",
      "Human: 大傻春是个身高一米六六的18岁纯情男大.\n"
     ]
    }
   ],
   "source": [
    "from typing import List \n",
    "\n",
    "from langchain_core.output_parsers  import PydanticOutputParser\n",
    "from langchain_core.prompts import ChatPromptTemplate\n",
    "from pydantic import BaseModel, Field\n",
    "\n",
    "class Person(BaseModel):\n",
    "    \"\"\"个人信息\"\"\"\n",
    "\n",
    "    name: str = Field(..., description=\"人的姓名\")\n",
    "    height_in_meters: float = Field(..., description=\"人的身高（米）\")\n",
    "\n",
    "class People(BaseModel):\n",
    "    \"\"\"文本中所有人的信息\"\"\"\n",
    "    people: List[Person] = Field(..., description=\"文本中所有人的信息\")\n",
    "parser = PydanticOutputParser(pydantic_object=People)\n",
    "prompt = ChatPromptTemplate.from_messages([\n",
    "    (\"system\",\"回答用户的查询。将输出用json标签包裹 \\n {format_instructions}\"),\n",
    "    (\"human\",\"{query}\"),\n",
    "]).partial(format_instructions=parser.get_format_instructions())\n",
    "\n",
    "query = \"大傻春是个身高一米六六的18岁纯情男大.\"\n",
    "\n",
    "print(prompt.invoke({\"query\": query}).to_string())"
   ]
  },
  {
   "cell_type": "code",
   "execution_count": 31,
   "metadata": {},
   "outputs": [
    {
     "data": {
      "text/plain": [
       "People(people=[Person(name='大傻春', height_in_meters=1.66)])"
      ]
     },
     "execution_count": 31,
     "metadata": {},
     "output_type": "execute_result"
    }
   ],
   "source": [
    "chain = prompt | ds_llm | parser \n",
    "chain.invoke({\"query\":query})"
   ]
  },
  {
   "cell_type": "code",
   "execution_count": 32,
   "metadata": {},
   "outputs": [
    {
     "name": "stderr",
     "output_type": "stream",
     "text": [
      "<>:14: SyntaxWarning: invalid escape sequence '\\`'\n",
      "<>:15: SyntaxWarning: invalid escape sequence '\\`'\n",
      "<>:14: SyntaxWarning: invalid escape sequence '\\`'\n",
      "<>:15: SyntaxWarning: invalid escape sequence '\\`'\n",
      "C:\\Users\\joe\\AppData\\Local\\Temp\\ipykernel_29444\\2998752214.py:14: SyntaxWarning: invalid escape sequence '\\`'\n",
      "  \"按照如下格式: \\`\\`\\`json{schema}\\n\\`\\`\\`.\"\n",
      "C:\\Users\\joe\\AppData\\Local\\Temp\\ipykernel_29444\\2998752214.py:15: SyntaxWarning: invalid escape sequence '\\`'\n",
      "  \"一定要确保你的回答在\\`\\`\\`json 和 \\`\\`\\`之间.\"\n",
      "C:\\Users\\joe\\AppData\\Local\\Temp\\ipykernel_29444\\2998752214.py:19: PydanticDeprecatedSince20: The `schema` method is deprecated; use `model_json_schema` instead. Deprecated in Pydantic V2.0 to be removed in V3.0. See Pydantic V2 Migration Guide at https://errors.pydantic.dev/2.11/migration/\n",
      "  ).partial(schema=People.schema())\n"
     ]
    },
    {
     "name": "stdout",
     "output_type": "stream",
     "text": [
      "System: 回答用户的查询。用json格式标签输出按照如下格式: \\`\\`\\`json{'$defs': {'Person': {'description': '个人信息', 'properties': {'name': {'description': '人的姓名', 'title': 'Name', 'type': 'string'}, 'height_in_meters': {'description': '人的身高（米）', 'title': 'Height In Meters', 'type': 'number'}}, 'required': ['name', 'height_in_meters'], 'title': 'Person', 'type': 'object'}}, 'description': '文本中所有人的信息', 'properties': {'people': {'description': '文本中所有人的信息', 'items': {'$ref': '#/$defs/Person'}, 'title': 'People', 'type': 'array'}}, 'required': ['people'], 'title': 'People', 'type': 'object'}\n",
      "\\`\\`\\`.一定要确保你的回答在\\`\\`\\`json 和 \\`\\`\\`之间.\n",
      "Human: 大傻春是个身高一米六六的18岁纯情男大.\n"
     ]
    },
    {
     "data": {
      "text/plain": [
       "[{'$defs': {'Person': {'description': '个人信息',\n",
       "    'properties': {'name': {'description': '人的姓名',\n",
       "      'title': 'Name',\n",
       "      'type': 'string'},\n",
       "     'height_in_meters': {'description': '人的身高（米）',\n",
       "      'title': 'Height In Meters',\n",
       "      'type': 'number'},\n",
       "     'age': {'description': '年龄', 'title': 'Age', 'type': 'number'},\n",
       "     'characteristics': {'description': '人物特征',\n",
       "      'title': 'Characteristics',\n",
       "      'type': 'string'}},\n",
       "    'required': ['name', 'height_in_meters'],\n",
       "    'title': 'Person',\n",
       "    'type': 'object'}},\n",
       "  'description': '文本中所有人的信息',\n",
       "  'properties': {'people': {'description': '文本中所有人的信息',\n",
       "    'items': {'$ref': '#/$defs/Person'},\n",
       "    'title': 'People',\n",
       "    'type': 'array'}},\n",
       "  'required': ['people'],\n",
       "  'title': 'People',\n",
       "  'type': 'object'}]"
      ]
     },
     "execution_count": 32,
     "metadata": {},
     "output_type": "execute_result"
    }
   ],
   "source": [
    "import json\n",
    "import re\n",
    "from typing import List\n",
    "\n",
    "from langchain_core.messages import AIMessage \n",
    "from langchain_core.prompts import ChatPromptTemplate\n",
    "from pydantic import BaseModel, Field\n",
    "\n",
    "prompt = ChatPromptTemplate.from_messages(\n",
    "    [\n",
    "        (\n",
    "            \"system\",\n",
    "            \"回答用户的查询。用json格式标签输出\"\n",
    "            \"按照如下格式: \\`\\`\\`json{schema}\\n\\`\\`\\`.\"\n",
    "            \"一定要确保你的回答在\\`\\`\\`json 和 \\`\\`\\`之间.\"\n",
    "        ),\n",
    "        (\"human\", \"{query}\"),\n",
    "    ]\n",
    ").partial(schema=People.schema())\n",
    "\n",
    "def extract_json(message: AIMessage)->List[dict]:\n",
    "    text = message.content\n",
    "    parttern = r\"\\`\\`\\`json(.*?)\\`\\`\\`\"\n",
    "    matches = re.findall(parttern, text, re.DOTALL)\n",
    "\n",
    "    try:\n",
    "        return [json.loads(match.strip()) for match in matches]\n",
    "    except Exception:\n",
    "        raise ValueError(f\"提取信息失败: {message}\")\n",
    "\n",
    "query = \"大傻春是个身高一米六六的18岁纯情男大.\"\n",
    "\n",
    "print(prompt.invoke({\"query\": query}).to_string())\n",
    "\n",
    "chain = prompt | ds_llm | extract_json\n",
    "chain.invoke({\"query\":query})"
   ]
  },
  {
   "cell_type": "code",
   "execution_count": 33,
   "metadata": {},
   "outputs": [
    {
     "data": {
      "text/plain": [
       "[{'people': [{'name': '大傻春', 'height_in_meters': 1.66}]}]"
      ]
     },
     "execution_count": 33,
     "metadata": {},
     "output_type": "execute_result"
    }
   ],
   "source": [
    "chain.invoke({\"query\":query})"
   ]
  }
 ],
 "metadata": {
  "kernelspec": {
   "display_name": ".venv",
   "language": "python",
   "name": "python3"
  },
  "language_info": {
   "codemirror_mode": {
    "name": "ipython",
    "version": 3
   },
   "file_extension": ".py",
   "mimetype": "text/x-python",
   "name": "python",
   "nbconvert_exporter": "python",
   "pygments_lexer": "ipython3",
   "version": "3.12.10"
  }
 },
 "nbformat": 4,
 "nbformat_minor": 2
}
