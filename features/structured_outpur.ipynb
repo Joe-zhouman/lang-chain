{
 "cells": [
  {
   "cell_type": "code",
   "execution_count": 1,
   "metadata": {},
   "outputs": [],
   "source": [
    "from pygments import highlight\n",
    "from pygments.lexers import JsonLexer\n",
    "from pygments.formatters import HtmlFormatter\n",
    "from IPython.display import HTML\n",
    "import json\n",
    "\n",
    "def display_json_with_highlight(output):\n",
    "    # pprint.pprint(output.to_json(), indent=1)\n",
    "    formatted_json = json.dumps(output.to_json(), indent=2)\n",
    "    formatter = HtmlFormatter(style='dracula', noclasses=True) \n",
    "    highlighted_html = highlight(formatted_json, JsonLexer(), formatter)\n",
    "    pygments_style_defs = formatter.get_style_defs('.highlight')\n",
    "    custom_css = f\"\"\"\n",
    "    <style>\n",
    "        /* Pygments Dracula 主题的 CSS 规则 */\n",
    "        {pygments_style_defs}\n",
    "\n",
    "        /* 覆盖 Pygments 默认字体，并确保使用 Fira Code */\n",
    "        .highlight, .highlight pre, .highlight code {{\n",
    "            font-family: \"Fira Code\", monospace !important;\n",
    "            font-size: 2 em !important; /* 调整字体大小 */\n",
    "            line-height: 1.5 !important; /* 调整行高 */\n",
    "        }}\n",
    "\n",
    "        /* 确保整个高亮块的背景色和文本颜色是 Dracula 的，并提供一些内边距 */\n",
    "        /* .output_area 是 Jupyter 输出区域的类 */\n",
    "        .output_area pre.highlight {{\n",
    "            background-color: #282a36 !important; /* Dracula 的背景色 */\n",
    "            color: #f8f8f2 !important; /* Dracula 的默认文本色 */\n",
    "            padding: 1em !important;\n",
    "            border-radius: 4px !important;\n",
    "            overflow-x: auto !important; /* 防止内容溢出，添加滚动条 */\n",
    "        }}\n",
    "\n",
    "        /* 对于代码内部的特定 Pygments 颜色类，如果需要微调，可以在这里添加 */\n",
    "        /* 例如：\n",
    "        .highlight .k {{ color: #ff79c6 !important; }} /* Dracula 的关键字颜色 */\n",
    "        */\n",
    "    </style>\n",
    "    \"\"\"\n",
    "    return highlighted_html+custom_css"
   ]
  },
  {
   "cell_type": "code",
   "execution_count": null,
   "metadata": {},
   "outputs": [],
   "source": [
    "ds_llm = init_chat_model(\n",
    "    \"deepseek/deepseek-chat-v3-0324:free\", \n",
    "    model_provider=\"openai\",\n",
    "    base_url=os.getenv(\"OPENROUTER_BASE_URL\"), \n",
    "    openai_api_key=os.getenv(\"OPENROUTER_API_KEY\"),\n",
    ")\n"
   ]
  }
 ],
 "metadata": {
  "kernelspec": {
   "display_name": ".venv",
   "language": "python",
   "name": "python3"
  },
  "language_info": {
   "codemirror_mode": {
    "name": "ipython",
    "version": 3
   },
   "file_extension": ".py",
   "mimetype": "text/x-python",
   "name": "python",
   "nbconvert_exporter": "python",
   "pygments_lexer": "ipython3",
   "version": "3.13.3"
  }
 },
 "nbformat": 4,
 "nbformat_minor": 2
}
