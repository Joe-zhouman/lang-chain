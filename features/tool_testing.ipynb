{
 "cells": [
  {
   "cell_type": "code",
   "execution_count": 1,
   "metadata": {},
   "outputs": [],
   "source": [
    "import os\n",
    "from langchain.chat_models import init_chat_model\n"
   ]
  },
  {
   "cell_type": "code",
   "execution_count": 3,
   "metadata": {},
   "outputs": [],
   "source": [
    "from pydantic import BaseModel, Field\n",
    "\n",
    "class add(BaseModel):\n",
    "    \"\"\"Add two integers.\"\"\"\n",
    "\n",
    "    a: int = Field(..., description=\"First integer\")\n",
    "    b: int = Field(..., description=\"Second integer\")\n",
    "\n",
    "class multiply(BaseModel):\n",
    "    \"\"\"Multiply two integers.\"\"\"\n",
    "\n",
    "    a: int = Field(..., description=\"First integer\")\n",
    "    b: int = Field(..., description=\"Second integer\")\n",
    "\n",
    "tools = [add, multiply]\n",
    "\n",
    "query = \"11 + 49等于几? 3 * 12等于几?\""
   ]
  },
  {
   "cell_type": "code",
   "execution_count": 6,
   "metadata": {},
   "outputs": [],
   "source": [
    "model_list = [\n",
    "    \"deepseek/deepseek-r1-0528\",\n",
    "    \"deepseek/deepseek-chat-v3-0324:free\",\n",
    "    \"deepseek/deepseek-chat-v3-0324\",\n",
    "    \"qwen/qwen-max\",\n",
    "]"
   ]
  },
  {
   "cell_type": "code",
   "execution_count": 12,
   "metadata": {},
   "outputs": [],
   "source": [
    "import os\n",
    "from langchain.chat_models import init_chat_model\n",
    "from langchain_core.output_parsers import PydanticToolsParser\n",
    "model_list=[...]\n",
    "with open(\"test_result.md\",\"w+\") as f:\n",
    "    for i in range(10):   \n",
    "        f.write(\"|model|output|\\n\")\n",
    "        f.write(\"|-|-|\\n\")\n",
    "        for model_name in model_list:\n",
    "            llm = init_chat_model(\n",
    "                model_name,\n",
    "                model_provider=\"openai\",\n",
    "                base_url=os.getenv(\"OPENROUTER_BASE_URL\"), \n",
    "                openai_api_key=os.getenv(\"OPENROUTER_API_KEY\"),\n",
    "            )\n",
    "            llm = llm.bind_tools(tools)\n",
    "            chain = llm | PydanticToolsParser(tools=tools)\n",
    "            f.write(f\"|{model_name}|{chain.invoke(query)}|\\n\")\n",
    "        f.write(\"\\n\\n\")\n",
    "\n"
   ]
  },
  {
   "cell_type": "code",
   "execution_count": 10,
   "metadata": {},
   "outputs": [],
   "source": [
    "model_list2 = [\n",
    "    \"anthropic/claude-sonnet-4\",\n",
    "    \"anthropic/claude-opus-4\",\n",
    "    \"x-ai/grok-3-beta\",\n",
    "    \"x-ai/grok-3-mini-beta\", \n",
    "]\n",
    "\n",
    "with open(\"test_result.md\",\"a+\") as f:\n",
    "    for model_name in model_list2:\n",
    "        llm = init_chat_model(\n",
    "            model_name,\n",
    "            model_provider=\"openai\",\n",
    "            base_url=os.getenv(\"OPENROUTER_BASE_URL\"), \n",
    "            openai_api_key=os.getenv(\"OPENROUTER_API_KEY\"),\n",
    "        )\n",
    "        llm = llm.bind_tools(tools)\n",
    "        chain = llm | PydanticToolsParser(tools=tools)\n",
    "        f.write(f\"|{model_name}|{chain.invoke(query)}|\\n\")"
   ]
  }
 ],
 "metadata": {
  "kernelspec": {
   "display_name": ".venv",
   "language": "python",
   "name": "python3"
  },
  "language_info": {
   "codemirror_mode": {
    "name": "ipython",
    "version": 3
   },
   "file_extension": ".py",
   "mimetype": "text/x-python",
   "name": "python",
   "nbconvert_exporter": "python",
   "pygments_lexer": "ipython3",
   "version": "3.12.10"
  }
 },
 "nbformat": 4,
 "nbformat_minor": 2
}
