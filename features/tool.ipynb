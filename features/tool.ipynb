{
 "cells": [
  {
   "cell_type": "code",
   "execution_count": 1,
   "metadata": {},
   "outputs": [],
   "source": [
    "import os\n",
    "\n",
    "from langchain.chat_models import init_chat_model\n",
    "ds_llm = init_chat_model(\n",
    "    \"deepseek/deepseek-chat-v3-0324:free\", \n",
    "    model_provider=\"openai\",\n",
    "    base_url=os.getenv(\"OPENROUTER_BASE_URL\"), \n",
    "    openai_api_key=os.getenv(\"OPENROUTER_API_KEY\"),\n",
    ")\n",
    "\n"
   ]
  },
  {
   "cell_type": "code",
   "execution_count": null,
   "metadata": {},
   "outputs": [],
   "source": [
    "from pydantic import BaseModel, Field\n",
    "\n",
    "class add(BaseModel):\n",
    "    \"\"\"Add two integers.\"\"\"\n",
    "\n",
    "    a: int = Field(..., description=\"First integer\")\n",
    "    b: int = Field(..., description=\"Second integer\")\n",
    "\n",
    "class multiply(BaseModel):\n",
    "    \"\"\"Multiply two integers.\"\"\"\n",
    "\n",
    "    a: int = Field(..., description=\"First integer\")\n",
    "    b: int = Field(..., description=\"Second integer\")"
   ]
  },
  {
   "cell_type": "code",
   "execution_count": 4,
   "metadata": {},
   "outputs": [],
   "source": [
    "tools = [add, multiply]"
   ]
  },
  {
   "cell_type": "code",
   "execution_count": null,
   "metadata": {},
   "outputs": [],
   "source": [
    "query = \"3 * 12等于多少?\"\n",
    "\n",
    "output = llm_with_tools.invoke(query)"
   ]
  },
  {
   "cell_type": "code",
   "execution_count": 7,
   "metadata": {},
   "outputs": [
    {
     "data": {
      "text/html": [
       "<div class=\"highlight\" style=\"background: #282a36\"><pre style=\"line-height: 125%;\"><span></span><span style=\"color: #F8F8F2\">{</span>\n",
       "<span style=\"color: #F8F8F2\">  </span><span style=\"color: #FF79C6\">&quot;lc&quot;</span><span style=\"color: #F8F8F2\">: </span><span style=\"color: #FFB86C\">1</span><span style=\"color: #F8F8F2\">,</span>\n",
       "<span style=\"color: #F8F8F2\">  </span><span style=\"color: #FF79C6\">&quot;type&quot;</span><span style=\"color: #F8F8F2\">: </span><span style=\"color: #BD93F9\">&quot;constructor&quot;</span><span style=\"color: #F8F8F2\">,</span>\n",
       "<span style=\"color: #F8F8F2\">  </span><span style=\"color: #FF79C6\">&quot;id&quot;</span><span style=\"color: #F8F8F2\">: [</span>\n",
       "<span style=\"color: #F8F8F2\">    </span><span style=\"color: #BD93F9\">&quot;langchain&quot;</span><span style=\"color: #F8F8F2\">,</span>\n",
       "<span style=\"color: #F8F8F2\">    </span><span style=\"color: #BD93F9\">&quot;schema&quot;</span><span style=\"color: #F8F8F2\">,</span>\n",
       "<span style=\"color: #F8F8F2\">    </span><span style=\"color: #BD93F9\">&quot;messages&quot;</span><span style=\"color: #F8F8F2\">,</span>\n",
       "<span style=\"color: #F8F8F2\">    </span><span style=\"color: #BD93F9\">&quot;AIMessage&quot;</span>\n",
       "<span style=\"color: #F8F8F2\">  ],</span>\n",
       "<span style=\"color: #F8F8F2\">  </span><span style=\"color: #FF79C6\">&quot;kwargs&quot;</span><span style=\"color: #F8F8F2\">: {</span>\n",
       "<span style=\"color: #F8F8F2\">    </span><span style=\"color: #FF79C6\">&quot;content&quot;</span><span style=\"color: #F8F8F2\">: </span><span style=\"color: #BD93F9\">&quot;&quot;</span><span style=\"color: #F8F8F2\">,</span>\n",
       "<span style=\"color: #F8F8F2\">    </span><span style=\"color: #FF79C6\">&quot;additional_kwargs&quot;</span><span style=\"color: #F8F8F2\">: {</span>\n",
       "<span style=\"color: #F8F8F2\">      </span><span style=\"color: #FF79C6\">&quot;tool_calls&quot;</span><span style=\"color: #F8F8F2\">: [</span>\n",
       "<span style=\"color: #F8F8F2\">        {</span>\n",
       "<span style=\"color: #F8F8F2\">          </span><span style=\"color: #FF79C6\">&quot;id&quot;</span><span style=\"color: #F8F8F2\">: </span><span style=\"color: #BD93F9\">&quot;call_mBF1rqfETeihG3YLhaFpqg&quot;</span><span style=\"color: #F8F8F2\">,</span>\n",
       "<span style=\"color: #F8F8F2\">          </span><span style=\"color: #FF79C6\">&quot;function&quot;</span><span style=\"color: #F8F8F2\">: {</span>\n",
       "<span style=\"color: #F8F8F2\">            </span><span style=\"color: #FF79C6\">&quot;arguments&quot;</span><span style=\"color: #F8F8F2\">: </span><span style=\"color: #BD93F9\">&quot;{\\&quot;a\\&quot;:3,\\&quot;b\\&quot;:12}&quot;</span><span style=\"color: #F8F8F2\">,</span>\n",
       "<span style=\"color: #F8F8F2\">            </span><span style=\"color: #FF79C6\">&quot;name&quot;</span><span style=\"color: #F8F8F2\">: </span><span style=\"color: #BD93F9\">&quot;multiply&quot;</span>\n",
       "<span style=\"color: #F8F8F2\">          },</span>\n",
       "<span style=\"color: #F8F8F2\">          </span><span style=\"color: #FF79C6\">&quot;type&quot;</span><span style=\"color: #F8F8F2\">: </span><span style=\"color: #BD93F9\">&quot;function&quot;</span><span style=\"color: #F8F8F2\">,</span>\n",
       "<span style=\"color: #F8F8F2\">          </span><span style=\"color: #FF79C6\">&quot;index&quot;</span><span style=\"color: #F8F8F2\">: </span><span style=\"color: #FFB86C\">1</span>\n",
       "<span style=\"color: #F8F8F2\">        }</span>\n",
       "<span style=\"color: #F8F8F2\">      ],</span>\n",
       "<span style=\"color: #F8F8F2\">      </span><span style=\"color: #FF79C6\">&quot;refusal&quot;</span><span style=\"color: #F8F8F2\">: </span><span style=\"color: #FF79C6\">null</span>\n",
       "<span style=\"color: #F8F8F2\">    },</span>\n",
       "<span style=\"color: #F8F8F2\">    </span><span style=\"color: #FF79C6\">&quot;response_metadata&quot;</span><span style=\"color: #F8F8F2\">: {</span>\n",
       "<span style=\"color: #F8F8F2\">      </span><span style=\"color: #FF79C6\">&quot;token_usage&quot;</span><span style=\"color: #F8F8F2\">: {</span>\n",
       "<span style=\"color: #F8F8F2\">        </span><span style=\"color: #FF79C6\">&quot;completion_tokens&quot;</span><span style=\"color: #F8F8F2\">: </span><span style=\"color: #FFB86C\">23</span><span style=\"color: #F8F8F2\">,</span>\n",
       "<span style=\"color: #F8F8F2\">        </span><span style=\"color: #FF79C6\">&quot;prompt_tokens&quot;</span><span style=\"color: #F8F8F2\">: </span><span style=\"color: #FFB86C\">256</span><span style=\"color: #F8F8F2\">,</span>\n",
       "<span style=\"color: #F8F8F2\">        </span><span style=\"color: #FF79C6\">&quot;total_tokens&quot;</span><span style=\"color: #F8F8F2\">: </span><span style=\"color: #FFB86C\">279</span><span style=\"color: #F8F8F2\">,</span>\n",
       "<span style=\"color: #F8F8F2\">        </span><span style=\"color: #FF79C6\">&quot;completion_tokens_details&quot;</span><span style=\"color: #F8F8F2\">: </span><span style=\"color: #FF79C6\">null</span><span style=\"color: #F8F8F2\">,</span>\n",
       "<span style=\"color: #F8F8F2\">        </span><span style=\"color: #FF79C6\">&quot;prompt_tokens_details&quot;</span><span style=\"color: #F8F8F2\">: </span><span style=\"color: #FF79C6\">null</span>\n",
       "<span style=\"color: #F8F8F2\">      },</span>\n",
       "<span style=\"color: #F8F8F2\">      </span><span style=\"color: #FF79C6\">&quot;model_name&quot;</span><span style=\"color: #F8F8F2\">: </span><span style=\"color: #BD93F9\">&quot;deepseek/deepseek-chat-v3-0324:free&quot;</span><span style=\"color: #F8F8F2\">,</span>\n",
       "<span style=\"color: #F8F8F2\">      </span><span style=\"color: #FF79C6\">&quot;system_fingerprint&quot;</span><span style=\"color: #F8F8F2\">: </span><span style=\"color: #FF79C6\">null</span><span style=\"color: #F8F8F2\">,</span>\n",
       "<span style=\"color: #F8F8F2\">      </span><span style=\"color: #FF79C6\">&quot;id&quot;</span><span style=\"color: #F8F8F2\">: </span><span style=\"color: #BD93F9\">&quot;gen-1750002227-QM2zk2cSDXLzJT7Z77uh&quot;</span><span style=\"color: #F8F8F2\">,</span>\n",
       "<span style=\"color: #F8F8F2\">      </span><span style=\"color: #FF79C6\">&quot;service_tier&quot;</span><span style=\"color: #F8F8F2\">: </span><span style=\"color: #FF79C6\">null</span><span style=\"color: #F8F8F2\">,</span>\n",
       "<span style=\"color: #F8F8F2\">      </span><span style=\"color: #FF79C6\">&quot;finish_reason&quot;</span><span style=\"color: #F8F8F2\">: </span><span style=\"color: #BD93F9\">&quot;tool_calls&quot;</span><span style=\"color: #F8F8F2\">,</span>\n",
       "<span style=\"color: #F8F8F2\">      </span><span style=\"color: #FF79C6\">&quot;logprobs&quot;</span><span style=\"color: #F8F8F2\">: </span><span style=\"color: #FF79C6\">null</span>\n",
       "<span style=\"color: #F8F8F2\">    },</span>\n",
       "<span style=\"color: #F8F8F2\">    </span><span style=\"color: #FF79C6\">&quot;type&quot;</span><span style=\"color: #F8F8F2\">: </span><span style=\"color: #BD93F9\">&quot;ai&quot;</span><span style=\"color: #F8F8F2\">,</span>\n",
       "<span style=\"color: #F8F8F2\">    </span><span style=\"color: #FF79C6\">&quot;id&quot;</span><span style=\"color: #F8F8F2\">: </span><span style=\"color: #BD93F9\">&quot;run--9c9da9dd-5f99-4945-9467-7b82f73474b8-0&quot;</span><span style=\"color: #F8F8F2\">,</span>\n",
       "<span style=\"color: #F8F8F2\">    </span><span style=\"color: #FF79C6\">&quot;tool_calls&quot;</span><span style=\"color: #F8F8F2\">: [</span>\n",
       "<span style=\"color: #F8F8F2\">      {</span>\n",
       "<span style=\"color: #F8F8F2\">        </span><span style=\"color: #FF79C6\">&quot;name&quot;</span><span style=\"color: #F8F8F2\">: </span><span style=\"color: #BD93F9\">&quot;multiply&quot;</span><span style=\"color: #F8F8F2\">,</span>\n",
       "<span style=\"color: #F8F8F2\">        </span><span style=\"color: #FF79C6\">&quot;args&quot;</span><span style=\"color: #F8F8F2\">: {</span>\n",
       "<span style=\"color: #F8F8F2\">          </span><span style=\"color: #FF79C6\">&quot;a&quot;</span><span style=\"color: #F8F8F2\">: </span><span style=\"color: #FFB86C\">3</span><span style=\"color: #F8F8F2\">,</span>\n",
       "<span style=\"color: #F8F8F2\">          </span><span style=\"color: #FF79C6\">&quot;b&quot;</span><span style=\"color: #F8F8F2\">: </span><span style=\"color: #FFB86C\">12</span>\n",
       "<span style=\"color: #F8F8F2\">        },</span>\n",
       "<span style=\"color: #F8F8F2\">        </span><span style=\"color: #FF79C6\">&quot;id&quot;</span><span style=\"color: #F8F8F2\">: </span><span style=\"color: #BD93F9\">&quot;call_mBF1rqfETeihG3YLhaFpqg&quot;</span><span style=\"color: #F8F8F2\">,</span>\n",
       "<span style=\"color: #F8F8F2\">        </span><span style=\"color: #FF79C6\">&quot;type&quot;</span><span style=\"color: #F8F8F2\">: </span><span style=\"color: #BD93F9\">&quot;tool_call&quot;</span>\n",
       "<span style=\"color: #F8F8F2\">      }</span>\n",
       "<span style=\"color: #F8F8F2\">    ],</span>\n",
       "<span style=\"color: #F8F8F2\">    </span><span style=\"color: #FF79C6\">&quot;usage_metadata&quot;</span><span style=\"color: #F8F8F2\">: {</span>\n",
       "<span style=\"color: #F8F8F2\">      </span><span style=\"color: #FF79C6\">&quot;input_tokens&quot;</span><span style=\"color: #F8F8F2\">: </span><span style=\"color: #FFB86C\">256</span><span style=\"color: #F8F8F2\">,</span>\n",
       "<span style=\"color: #F8F8F2\">      </span><span style=\"color: #FF79C6\">&quot;output_tokens&quot;</span><span style=\"color: #F8F8F2\">: </span><span style=\"color: #FFB86C\">23</span><span style=\"color: #F8F8F2\">,</span>\n",
       "<span style=\"color: #F8F8F2\">      </span><span style=\"color: #FF79C6\">&quot;total_tokens&quot;</span><span style=\"color: #F8F8F2\">: </span><span style=\"color: #FFB86C\">279</span><span style=\"color: #F8F8F2\">,</span>\n",
       "<span style=\"color: #F8F8F2\">      </span><span style=\"color: #FF79C6\">&quot;input_token_details&quot;</span><span style=\"color: #F8F8F2\">: {},</span>\n",
       "<span style=\"color: #F8F8F2\">      </span><span style=\"color: #FF79C6\">&quot;output_token_details&quot;</span><span style=\"color: #F8F8F2\">: {}</span>\n",
       "<span style=\"color: #F8F8F2\">    },</span>\n",
       "<span style=\"color: #F8F8F2\">    </span><span style=\"color: #FF79C6\">&quot;invalid_tool_calls&quot;</span><span style=\"color: #F8F8F2\">: []</span>\n",
       "<span style=\"color: #F8F8F2\">  }</span>\n",
       "<span style=\"color: #F8F8F2\">}</span>\n",
       "</pre></div>\n",
       "\n",
       "    <style>\n",
       "        /* Pygments Dracula 主题的 CSS 规则 */\n",
       "        pre { line-height: 125%; }\n",
       "td.linenos .normal { color: #f1fa8c; background-color: #44475a; padding-left: 5px; padding-right: 5px; }\n",
       "span.linenos { color: #f1fa8c; background-color: #44475a; padding-left: 5px; padding-right: 5px; }\n",
       "td.linenos .special { color: #50fa7b; background-color: #6272a4; padding-left: 5px; padding-right: 5px; }\n",
       "span.linenos.special { color: #50fa7b; background-color: #6272a4; padding-left: 5px; padding-right: 5px; }\n",
       ".highlight .hll { background-color: #44475a }\n",
       ".highlight { background: #282a36; color: #F8F8F2 }\n",
       ".highlight .c { color: #6272A4 } /* Comment */\n",
       ".highlight .err { color: #F8F8F2 } /* Error */\n",
       ".highlight .g { color: #F8F8F2 } /* Generic */\n",
       ".highlight .k { color: #FF79C6 } /* Keyword */\n",
       ".highlight .l { color: #F8F8F2 } /* Literal */\n",
       ".highlight .n { color: #F8F8F2 } /* Name */\n",
       ".highlight .o { color: #FF79C6 } /* Operator */\n",
       ".highlight .x { color: #F8F8F2 } /* Other */\n",
       ".highlight .p { color: #F8F8F2 } /* Punctuation */\n",
       ".highlight .ch { color: #6272A4 } /* Comment.Hashbang */\n",
       ".highlight .cm { color: #6272A4 } /* Comment.Multiline */\n",
       ".highlight .cp { color: #FF79C6 } /* Comment.Preproc */\n",
       ".highlight .cpf { color: #6272A4 } /* Comment.PreprocFile */\n",
       ".highlight .c1 { color: #6272A4 } /* Comment.Single */\n",
       ".highlight .cs { color: #6272A4 } /* Comment.Special */\n",
       ".highlight .gd { color: #8B080B } /* Generic.Deleted */\n",
       ".highlight .ge { color: #F8F8F2; text-decoration: underline } /* Generic.Emph */\n",
       ".highlight .ges { color: #F8F8F2; text-decoration: underline } /* Generic.EmphStrong */\n",
       ".highlight .gr { color: #F8F8F2 } /* Generic.Error */\n",
       ".highlight .gh { color: #F8F8F2; font-weight: bold } /* Generic.Heading */\n",
       ".highlight .gi { color: #F8F8F2; font-weight: bold } /* Generic.Inserted */\n",
       ".highlight .go { color: #44475A } /* Generic.Output */\n",
       ".highlight .gp { color: #F8F8F2 } /* Generic.Prompt */\n",
       ".highlight .gs { color: #F8F8F2 } /* Generic.Strong */\n",
       ".highlight .gu { color: #F8F8F2; font-weight: bold } /* Generic.Subheading */\n",
       ".highlight .gt { color: #F8F8F2 } /* Generic.Traceback */\n",
       ".highlight .kc { color: #FF79C6 } /* Keyword.Constant */\n",
       ".highlight .kd { color: #8BE9FD; font-style: italic } /* Keyword.Declaration */\n",
       ".highlight .kn { color: #FF79C6 } /* Keyword.Namespace */\n",
       ".highlight .kp { color: #FF79C6 } /* Keyword.Pseudo */\n",
       ".highlight .kr { color: #FF79C6 } /* Keyword.Reserved */\n",
       ".highlight .kt { color: #8BE9FD } /* Keyword.Type */\n",
       ".highlight .ld { color: #F8F8F2 } /* Literal.Date */\n",
       ".highlight .m { color: #FFB86C } /* Literal.Number */\n",
       ".highlight .s { color: #BD93F9 } /* Literal.String */\n",
       ".highlight .na { color: #50FA7B } /* Name.Attribute */\n",
       ".highlight .nb { color: #8BE9FD; font-style: italic } /* Name.Builtin */\n",
       ".highlight .nc { color: #50FA7B } /* Name.Class */\n",
       ".highlight .no { color: #F8F8F2 } /* Name.Constant */\n",
       ".highlight .nd { color: #F8F8F2 } /* Name.Decorator */\n",
       ".highlight .ni { color: #F8F8F2 } /* Name.Entity */\n",
       ".highlight .ne { color: #F8F8F2 } /* Name.Exception */\n",
       ".highlight .nf { color: #50FA7B } /* Name.Function */\n",
       ".highlight .nl { color: #8BE9FD; font-style: italic } /* Name.Label */\n",
       ".highlight .nn { color: #F8F8F2 } /* Name.Namespace */\n",
       ".highlight .nx { color: #F8F8F2 } /* Name.Other */\n",
       ".highlight .py { color: #F8F8F2 } /* Name.Property */\n",
       ".highlight .nt { color: #FF79C6 } /* Name.Tag */\n",
       ".highlight .nv { color: #8BE9FD; font-style: italic } /* Name.Variable */\n",
       ".highlight .ow { color: #FF79C6 } /* Operator.Word */\n",
       ".highlight .pm { color: #F8F8F2 } /* Punctuation.Marker */\n",
       ".highlight .w { color: #F8F8F2 } /* Text.Whitespace */\n",
       ".highlight .mb { color: #FFB86C } /* Literal.Number.Bin */\n",
       ".highlight .mf { color: #FFB86C } /* Literal.Number.Float */\n",
       ".highlight .mh { color: #FFB86C } /* Literal.Number.Hex */\n",
       ".highlight .mi { color: #FFB86C } /* Literal.Number.Integer */\n",
       ".highlight .mo { color: #FFB86C } /* Literal.Number.Oct */\n",
       ".highlight .sa { color: #BD93F9 } /* Literal.String.Affix */\n",
       ".highlight .sb { color: #BD93F9 } /* Literal.String.Backtick */\n",
       ".highlight .sc { color: #BD93F9 } /* Literal.String.Char */\n",
       ".highlight .dl { color: #BD93F9 } /* Literal.String.Delimiter */\n",
       ".highlight .sd { color: #BD93F9 } /* Literal.String.Doc */\n",
       ".highlight .s2 { color: #BD93F9 } /* Literal.String.Double */\n",
       ".highlight .se { color: #BD93F9 } /* Literal.String.Escape */\n",
       ".highlight .sh { color: #BD93F9 } /* Literal.String.Heredoc */\n",
       ".highlight .si { color: #BD93F9 } /* Literal.String.Interpol */\n",
       ".highlight .sx { color: #BD93F9 } /* Literal.String.Other */\n",
       ".highlight .sr { color: #BD93F9 } /* Literal.String.Regex */\n",
       ".highlight .s1 { color: #BD93F9 } /* Literal.String.Single */\n",
       ".highlight .ss { color: #BD93F9 } /* Literal.String.Symbol */\n",
       ".highlight .bp { color: #F8F8F2; font-style: italic } /* Name.Builtin.Pseudo */\n",
       ".highlight .fm { color: #50FA7B } /* Name.Function.Magic */\n",
       ".highlight .vc { color: #8BE9FD; font-style: italic } /* Name.Variable.Class */\n",
       ".highlight .vg { color: #8BE9FD; font-style: italic } /* Name.Variable.Global */\n",
       ".highlight .vi { color: #8BE9FD; font-style: italic } /* Name.Variable.Instance */\n",
       ".highlight .vm { color: #8BE9FD; font-style: italic } /* Name.Variable.Magic */\n",
       ".highlight .il { color: #FFB86C } /* Literal.Number.Integer.Long */\n",
       "\n",
       "        /* 覆盖 Pygments 默认字体，并确保使用 Fira Code */\n",
       "        .highlight, .highlight pre, .highlight code {\n",
       "            font-family: \"Fira Code\", monospace !important;\n",
       "            font-size: 2 em !important; /* 调整字体大小 */\n",
       "            line-height: 1.5 !important; /* 调整行高 */\n",
       "        }\n",
       "\n",
       "        /* 确保整个高亮块的背景色和文本颜色是 Dracula 的，并提供一些内边距 */\n",
       "        /* .output_area 是 Jupyter 输出区域的类 */\n",
       "        .output_area pre.highlight {\n",
       "            background-color: #282a36 !important; /* Dracula 的背景色 */\n",
       "            color: #f8f8f2 !important; /* Dracula 的默认文本色 */\n",
       "            padding: 1em !important;\n",
       "            border-radius: 4px !important;\n",
       "            overflow-x: auto !important; /* 防止内容溢出，添加滚动条 */\n",
       "        }\n",
       "\n",
       "        /* 对于代码内部的特定 Pygments 颜色类，如果需要微调，可以在这里添加 */\n",
       "        /* 例如：\n",
       "        .highlight .k { color: #ff79c6 !important; } /* Dracula 的关键字颜色 */\n",
       "        */\n",
       "    </style>\n",
       "    "
      ],
      "text/plain": [
       "<IPython.core.display.HTML object>"
      ]
     },
     "execution_count": 7,
     "metadata": {},
     "output_type": "execute_result"
    }
   ],
   "source": [
    "from pygments import highlight\n",
    "from pygments.lexers import JsonLexer\n",
    "from pygments.formatters import HtmlFormatter\n",
    "from IPython.display import HTML\n",
    "import json\n",
    "\n",
    "def display_json_with_highlight(output):\n",
    "    # pprint.pprint(output.to_json(), indent=1)\n",
    "    formatted_json = json.dumps(output.to_json(), indent=2)\n",
    "    formatter = HtmlFormatter(style='dracula', noclasses=True) \n",
    "    highlighted_html = highlight(formatted_json, JsonLexer(), formatter)\n",
    "    pygments_style_defs = formatter.get_style_defs('.highlight')\n",
    "    custom_css = f\"\"\"\n",
    "    <style>\n",
    "        /* Pygments Dracula 主题的 CSS 规则 */\n",
    "        {pygments_style_defs}\n",
    "\n",
    "        /* 覆盖 Pygments 默认字体，并确保使用 Fira Code */\n",
    "        .highlight, .highlight pre, .highlight code {{\n",
    "            font-family: \"Fira Code\", monospace !important;\n",
    "            font-size: 2 em !important; /* 调整字体大小 */\n",
    "            line-height: 1.5 !important; /* 调整行高 */\n",
    "        }}\n",
    "\n",
    "        /* 确保整个高亮块的背景色和文本颜色是 Dracula 的，并提供一些内边距 */\n",
    "        /* .output_area 是 Jupyter 输出区域的类 */\n",
    "        .output_area pre.highlight {{\n",
    "            background-color: #282a36 !important; /* Dracula 的背景色 */\n",
    "            color: #f8f8f2 !important; /* Dracula 的默认文本色 */\n",
    "            padding: 1em !important;\n",
    "            border-radius: 4px !important;\n",
    "            overflow-x: auto !important; /* 防止内容溢出，添加滚动条 */\n",
    "        }}\n",
    "\n",
    "        /* 对于代码内部的特定 Pygments 颜色类，如果需要微调，可以在这里添加 */\n",
    "        /* 例如：\n",
    "        .highlight .k {{ color: #ff79c6 !important; }} /* Dracula 的关键字颜色 */\n",
    "        */\n",
    "    </style>\n",
    "    \"\"\"\n",
    "    return highlighted_html+custom_css\n",
    "\n",
    "HTML(display_json_with_highlight(output))"
   ]
  },
  {
   "cell_type": "code",
   "execution_count": 16,
   "metadata": {},
   "outputs": [],
   "source": [
    "query = \"what is 11 + 49? What is 3 * 12? \"\n",
    "output = llm_with_tools.invoke(query).tool_calls"
   ]
  },
  {
   "cell_type": "code",
   "execution_count": 17,
   "metadata": {},
   "outputs": [
    {
     "name": "stdout",
     "output_type": "stream",
     "text": [
      "[{'args': {'a': 11, 'b': 49},\n",
      "  'id': 'call_EdQxQm3kSLWgzjELrOEb1A',\n",
      "  'name': 'add',\n",
      "  'type': 'tool_call'}]\n"
     ]
    }
   ],
   "source": [
    "import pprint\n",
    "pprint.pprint(output)"
   ]
  },
  {
   "cell_type": "code",
   "execution_count": 19,
   "metadata": {},
   "outputs": [],
   "source": [
    "gpt_llm = init_chat_model(\"gpt-4o-mini\")\n",
    "gpt_llm_with_tools = gpt_llm.bind_tools(tools)\n",
    "output = gpt_llm_with_tools.invoke(query).tool_calls"
   ]
  },
  {
   "cell_type": "code",
   "execution_count": 20,
   "metadata": {},
   "outputs": [
    {
     "name": "stdout",
     "output_type": "stream",
     "text": [
      "[{'args': {'a': 11, 'b': 49},\n",
      "  'id': 'call_ubkq5agtJ6hvDDpyi8kHMPhe',\n",
      "  'name': 'add',\n",
      "  'type': 'tool_call'},\n",
      " {'args': {'a': 3, 'b': 12},\n",
      "  'id': 'call_l4ahmO1mGCB2HPFvBpnIRFPz',\n",
      "  'name': 'multiply',\n",
      "  'type': 'tool_call'}]\n"
     ]
    }
   ],
   "source": [
    "pprint.pprint(output)"
   ]
  },
  {
   "cell_type": "code",
   "execution_count": 21,
   "metadata": {},
   "outputs": [],
   "source": [
    "from langchain_core.output_parsers import PydanticToolsParser\n",
    "\n",
    "chain = llm_with_tools | PydanticToolsParser(tools=[add, multiply])\n",
    "output = chain.invoke(query)"
   ]
  },
  {
   "cell_type": "code",
   "execution_count": 23,
   "metadata": {},
   "outputs": [
    {
     "name": "stdout",
     "output_type": "stream",
     "text": [
      "[add(a=11, b=49)]\n"
     ]
    }
   ],
   "source": [
    "pprint.pprint(output)"
   ]
  },
  {
   "cell_type": "code",
   "execution_count": 24,
   "metadata": {},
   "outputs": [],
   "source": [
    "chain = gpt_llm_with_tools | PydanticToolsParser(tools=[add, multiply])\n",
    "output = chain.invoke(query)"
   ]
  },
  {
   "cell_type": "code",
   "execution_count": 25,
   "metadata": {},
   "outputs": [
    {
     "name": "stdout",
     "output_type": "stream",
     "text": [
      "[add(a=11, b=49), multiply(a=3, b=12)]\n"
     ]
    }
   ],
   "source": [
    "pprint.pprint(output)"
   ]
  },
  {
   "cell_type": "code",
   "execution_count": 26,
   "metadata": {},
   "outputs": [],
   "source": [
    "# The function name, type hints, and docstring are all part of the tool\n",
    "# schema that's passed to the model. Defining good, descriptive schemas\n",
    "# is an extension of prompt engineering and is an important part of\n",
    "# getting models to perform well.\n",
    "def add(a: int, b: int) -> int:\n",
    "    \"\"\"Add two integers.\n",
    "\n",
    "    Args:\n",
    "        a: First integer\n",
    "        b: Second integer\n",
    "    \"\"\"\n",
    "    return a + b\n",
    "\n",
    "\n",
    "def multiply(a: int, b: int) -> int:\n",
    "    \"\"\"Multiply two integers.\n",
    "\n",
    "    Args:\n",
    "        a: First integer\n",
    "        b: Second integer\n",
    "    \"\"\"\n",
    "    return a * b\n",
    "\n",
    "chain = gpt_llm_with_tools | PydanticToolsParser(tools=[add, multiply])\n",
    "output = chain.invoke(query)"
   ]
  },
  {
   "cell_type": "code",
   "execution_count": 27,
   "metadata": {},
   "outputs": [
    {
     "name": "stdout",
     "output_type": "stream",
     "text": [
      "[60, 36]\n"
     ]
    }
   ],
   "source": [
    "pprint.pprint(output)"
   ]
  },
  {
   "cell_type": "code",
   "execution_count": 28,
   "metadata": {},
   "outputs": [],
   "source": [
    "llm = init_chat_model(\n",
    "    \"deepseek/deepseek-chat-v3-0324:free\", \n",
    "    model_provider=\"openai\",\n",
    "    base_url=os.getenv(\"OPENROUTER_BASE_URL\"), \n",
    "    openai_api_key=os.getenv(\"OPENROUTER_API_KEY\"),\n",
    ")\n",
    "\n",
    "tools = [add, multiply]\n",
    "llm_with_tools = llm.bind_tools(tools)\n",
    "query = \"3 * 12等于多少?\"\n",
    "output = llm_with_tools.invoke(query)"
   ]
  },
  {
   "cell_type": "code",
   "execution_count": 29,
   "metadata": {},
   "outputs": [
    {
     "name": "stdout",
     "output_type": "stream",
     "text": [
      "{'id': ['langchain', 'schema', 'messages', 'AIMessage'],\n",
      " 'kwargs': {'additional_kwargs': {'refusal': None,\n",
      "                                  'tool_calls': [{'function': {'arguments': '{\"a\":3,\"b\":12}',\n",
      "                                                               'name': 'multiply'},\n",
      "                                                  'id': 'call_w7viZDsjSC-sBc6zxB_k3g',\n",
      "                                                  'index': 1,\n",
      "                                                  'type': 'function'}]},\n",
      "            'content': '',\n",
      "            'id': 'run--c0bdc09d-df60-47fa-a0ff-f8fafd0818d6-0',\n",
      "            'invalid_tool_calls': [],\n",
      "            'response_metadata': {'finish_reason': 'tool_calls',\n",
      "                                  'id': 'gen-1750005217-JoRLvSCgxWHp8X49O3Cz',\n",
      "                                  'logprobs': None,\n",
      "                                  'model_name': 'deepseek/deepseek-chat-v3-0324:free',\n",
      "                                  'service_tier': None,\n",
      "                                  'system_fingerprint': None,\n",
      "                                  'token_usage': {'completion_tokens': 23,\n",
      "                                                  'completion_tokens_details': None,\n",
      "                                                  'prompt_tokens': 256,\n",
      "                                                  'prompt_tokens_details': None,\n",
      "                                                  'total_tokens': 279}},\n",
      "            'tool_calls': [{'args': {'a': 3, 'b': 12},\n",
      "                            'id': 'call_w7viZDsjSC-sBc6zxB_k3g',\n",
      "                            'name': 'multiply',\n",
      "                            'type': 'tool_call'}],\n",
      "            'type': 'ai',\n",
      "            'usage_metadata': {'input_token_details': {},\n",
      "                               'input_tokens': 256,\n",
      "                               'output_token_details': {},\n",
      "                               'output_tokens': 23,\n",
      "                               'total_tokens': 279}},\n",
      " 'lc': 1,\n",
      " 'type': 'constructor'}\n"
     ]
    }
   ],
   "source": [
    "pprint.pprint(output.to_json(), indent=1)"
   ]
  }
 ],
 "metadata": {
  "kernelspec": {
   "display_name": ".venv",
   "language": "python",
   "name": "python3"
  },
  "language_info": {
   "codemirror_mode": {
    "name": "ipython",
    "version": 3
   },
   "file_extension": ".py",
   "mimetype": "text/x-python",
   "name": "python",
   "nbconvert_exporter": "python",
   "pygments_lexer": "ipython3",
   "version": "3.13.3"
  }
 },
 "nbformat": 4,
 "nbformat_minor": 2
}
